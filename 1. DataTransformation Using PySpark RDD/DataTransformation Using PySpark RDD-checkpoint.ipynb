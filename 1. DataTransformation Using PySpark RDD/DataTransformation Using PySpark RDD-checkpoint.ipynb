{
 "cells": [
  {
   "cell_type": "code",
   "execution_count": 1,
   "id": "3f1425a1-0d9d-4b10-9b5e-74b2b6bfbeb5",
   "metadata": {},
   "outputs": [
    {
     "name": "stdout",
     "output_type": "stream",
     "text": [
      "<SparkContext master=local[*] appName=JupyterTest>\n"
     ]
    }
   ],
   "source": [
    "from pyspark.sql import SparkSession\n",
    "\n",
    "# Create SparkSession\n",
    "spark = SparkSession.builder.appName(\"JupyterTest\").getOrCreate()\n",
    "\n",
    "# Access SparkContext from SparkSession\n",
    "sc = spark.sparkContext\n",
    "\n",
    "# Test\n",
    "print(sc)"
   ]
  },
  {
   "cell_type": "code",
   "execution_count": 2,
   "id": "ebd91f34-0dfc-4cb2-94e3-fa251d10872e",
   "metadata": {},
   "outputs": [],
   "source": [
    "import random"
   ]
  },
  {
   "cell_type": "code",
   "execution_count": 3,
   "id": "2e10fc0e-d89b-4fce-92da-a74909b44dcc",
   "metadata": {},
   "outputs": [
    {
     "name": "stdout",
     "output_type": "stream",
     "text": [
      "Original List:\n",
      "[164, 668, 250, 774, 944, 475, 755, 525, 698, 543, 222, 623, 673, 280, 658, 453, 249, 11, 423, 905, 443, 499, 5, 824, 263, 622, 666, 513, 873, 735, 535, 380, 35, 500, 71, 397, 482, 296, 136, 255, 987, 594, 920, 227, 723, 81, 311, 144, 295, 911, 192, 782, 26, 888, 813, 103, 115, 661, 691, 735, 343, 159, 290, 770, 580, 986, 412, 35, 872, 412, 882, 560, 346, 577, 962, 650, 632, 147, 629, 177, 51, 889, 423, 214, 990, 419, 321, 263, 426, 756, 186, 756, 84, 21, 581, 208, 190, 503, 239, 47]\n"
     ]
    }
   ],
   "source": [
    "random_numbers = [random.randint(1, 1000) for _ in range(100)]\n",
    "print(\"Original List:\")\n",
    "print(random_numbers)"
   ]
  },
  {
   "cell_type": "code",
   "execution_count": 4,
   "id": "8686d58a-fe2c-4332-adc7-dae0f2f9114a",
   "metadata": {},
   "outputs": [],
   "source": [
    "numbers_rdd = sc.parallelize(random_numbers)"
   ]
  },
  {
   "cell_type": "code",
   "execution_count": 5,
   "id": "fc5d137b-8ff2-4a8b-bbf7-69e08e9fd848",
   "metadata": {},
   "outputs": [],
   "source": [
    "even_numbers_rdd = numbers_rdd.filter(lambda x: x % 2 == 0)"
   ]
  },
  {
   "cell_type": "code",
   "execution_count": 7,
   "id": "6c5cc9ba-3b24-45f0-b3c7-a91aafbebf70",
   "metadata": {},
   "outputs": [
    {
     "name": "stdout",
     "output_type": "stream",
     "text": [
      "\n",
      "Even Numbers:\n",
      "[164, 668, 250, 774, 944, 698, 222, 280, 658, 824, 622, 666, 380, 500, 482, 296, 136, 594, 920, 144, 192, 782, 26, 888, 290, 770, 580, 986, 412, 872, 412, 882, 560, 346, 962, 650, 632, 214, 990, 426, 756, 186, 756, 84, 208, 190]\n"
     ]
    }
   ],
   "source": [
    "even_numbers = even_numbers_rdd.collect()\n",
    "print(\"\\nEven Numbers:\")\n",
    "print(even_numbers)"
   ]
  },
  {
   "cell_type": "code",
   "execution_count": null,
   "id": "55582cd9-f37f-43b7-b56a-6516aff706f2",
   "metadata": {},
   "outputs": [],
   "source": []
  }
 ],
 "metadata": {
  "kernelspec": {
   "display_name": "Python 3 (ipykernel)",
   "language": "python",
   "name": "python3"
  },
  "language_info": {
   "codemirror_mode": {
    "name": "ipython",
    "version": 3
   },
   "file_extension": ".py",
   "mimetype": "text/x-python",
   "name": "python",
   "nbconvert_exporter": "python",
   "pygments_lexer": "ipython3",
   "version": "3.10.0"
  }
 },
 "nbformat": 4,
 "nbformat_minor": 5
}
